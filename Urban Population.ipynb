{
 "cells": [
  {
   "cell_type": "markdown",
   "id": "cb2d162a",
   "metadata": {},
   "source": [
    "# CASE STUDY: Visualize How Urban population Population Grows over years in specific Country"
   ]
  },
  {
   "cell_type": "raw",
   "id": "66779ca3",
   "metadata": {},
   "source": [
    "World Bank World Development Indicators dataset. \n",
    "This dataset contains data on 217 world economies for over half a century, from 1960 up until 2015. The data contains hundreds of indicators from population, electricity consumption and CO2 emissions to literacy rates, unemployment and mortality rates. In the following few exercises, you'll use dictionaries, zipping, user-defined functions, and list comprehensions to wrangle some of this wonderfully rich dataset. Let's quickly recap these tools."
   ]
  },
  {
   "cell_type": "raw",
   "id": "e0780657",
   "metadata": {},
   "source": [
    "Data Set URL:\n",
    "https://assets.datacamp.com/production/repositories/464/datasets/2175fef4b3691db03449bbc7ddffb740319c1131/world_ind_pop_data.csv"
   ]
  },
  {
   "cell_type": "code",
   "execution_count": 27,
   "id": "55dec8a8",
   "metadata": {},
   "outputs": [],
   "source": [
    "# Disable The Warnings \n",
    "import warnings\n",
    "warnings.filterwarnings('ignore')"
   ]
  },
  {
   "cell_type": "code",
   "execution_count": 28,
   "id": "80383dbe",
   "metadata": {
    "scrolled": true
   },
   "outputs": [
    {
     "name": "stdout",
     "output_type": "stream",
     "text": [
      "                               CountryName CountryCode  Year  \\\n",
      "0                               Arab World         ARB  1960   \n",
      "1                   Caribbean small states         CSS  1960   \n",
      "2           Central Europe and the Baltics         CEB  1960   \n",
      "3  East Asia & Pacific (all income levels)         EAS  1960   \n",
      "4    East Asia & Pacific (developing only)         EAP  1960   \n",
      "\n",
      "   Total Population  Urban population (% of total)  \n",
      "0      9.249590e+07                      31.285384  \n",
      "1      4.190810e+06                      31.597490  \n",
      "2      9.140158e+07                      44.507921  \n",
      "3      1.042475e+09                      22.471132  \n",
      "4      8.964930e+08                      16.917679  \n"
     ]
    }
   ],
   "source": [
    "# استكشاف\n",
    "import matplotlib as plt\n",
    "import pandas as pd\n",
    "\n",
    "dataset_url = 'https://assets.datacamp.com/production/repositories/464/datasets/2175fef4b3691db03449bbc7ddffb740319c1131/world_ind_pop_data.csv'\n",
    "df = pd.read_csv(dataset_url)\n",
    "print(df.head())"
   ]
  },
  {
   "cell_type": "raw",
   "id": "fa49f974",
   "metadata": {},
   "source": [
    "Our Goal here is to visualize hoe urbant Population grows over years on a specific country diven its code.\n",
    "Must process all The Observations - read partial Data then agregate\n",
    "1- we keep total pop along with urbant population(percentege of total) -use zip Object-\n",
    "2- we create a new list -list comperhinsive- copute urpant population\n",
    "3- we add it along our dataframe, and use its method .plot"
   ]
  },
  {
   "cell_type": "code",
   "execution_count": 29,
   "id": "f8db0640",
   "metadata": {},
   "outputs": [
    {
     "data": {
      "image/png": "[encoded data removed]",
      "text/plain": [
       "<Figure size 432x288 with 1 Axes>"
      ]
     },
     "metadata": {
      "needs_background": "light"
     },
     "output_type": "display_data"
    }
   ],
   "source": [
    "# Reading such Large Data Set as Chuncks using Generator Object Returned from read_csv with chuncksize=??\n",
    "# Great Deal with Streaming Data: Data constatnly Updated.\n",
    "def visualize_urban_population(country_code):\n",
    "\n",
    "    # aggregator/accumulator for peices of work     \n",
    "    dataframe_aggregator = pd.DataFrame()\n",
    "    \n",
    "    dataset_partial_generator = pd.read_csv(dataset_url, chunksize=100)\n",
    "    for df_urb_pop in dataset_partial_generator:\n",
    "        # Filter the DataSet so another keeps only row of a Country passed.         \n",
    "        df_urb_pop_per_country = df_urb_pop[df_urb_pop['CountryCode'] == country_code ]\n",
    "        \n",
    "        # keep two columns Total Population and Urban population (% of total') together for each observation.\n",
    "        pops = zip( df_urb_pop_per_country['Total Population'],\n",
    "             df_urb_pop_per_country['Urban population (% of total)'])\n",
    "        pops_list = list(pops)\n",
    "        \n",
    "        # Add the new Colums to The Filtered Data Set        \n",
    "        df_urb_pop_per_country['Total Urban Population'] = [int(pop[0]*pop[1]*0.01)for pop in pops_list]\n",
    "        \n",
    "        # build the Big solution          \n",
    "        dataframe_aggregator = dataframe_aggregator.append(df_urb_pop_per_country)\n",
    "        \n",
    "    # plot using plot method          \n",
    "    dataframe_aggregator.plot(kind='scatter', x='Year', y='Total Urban Population')\n",
    "#     plt.show()\n",
    "\n",
    "visualize_urban_population('CEB')"
   ]
  },
  {
   "cell_type": "code",
   "execution_count": null,
   "id": "c6e89207",
   "metadata": {},
   "outputs": [],
   "source": []
  }
 ],
 "metadata": {
  "kernelspec": {
   "display_name": "Python 3",
   "language": "python",
   "name": "python3"
  },
  "language_info": {
   "codemirror_mode": {
    "name": "ipython",
    "version": 3
   },
   "file_extension": ".py",
   "mimetype": "text/x-python",
   "name": "python",
   "nbconvert_exporter": "python",
   "pygments_lexer": "ipython3",
   "version": "3.8.8"
  }
 },
 "nbformat": 4,
 "nbformat_minor": 5
}
